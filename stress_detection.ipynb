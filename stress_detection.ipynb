{
 "cells": [
  {
   "cell_type": "code",
   "execution_count": 42,
   "id": "68576edd-5fc2-450a-9592-976cf55e4308",
   "metadata": {},
   "outputs": [
    {
     "name": "stdout",
     "output_type": "stream",
     "text": [
      "Accuracy: 0.6883802816901409\n",
      "              precision    recall  f1-score   support\n",
      "\n",
      "           0       0.83      0.41      0.55       263\n",
      "           1       0.65      0.93      0.76       305\n",
      "\n",
      "    accuracy                           0.69       568\n",
      "   macro avg       0.74      0.67      0.66       568\n",
      "weighted avg       0.73      0.69      0.66       568\n",
      "\n"
     ]
    },
    {
     "name": "stdin",
     "output_type": "stream",
     "text": [
      "Enter a sentence to predict stress level:  help me\n"
     ]
    },
    {
     "name": "stdout",
     "output_type": "stream",
     "text": [
      "Prediction: Stress\n"
     ]
    }
   ],
   "source": [
    "# Import necessary libraries\n",
    "import pandas as pd\n",
    "import re\n",
    "import string\n",
    "import matplotlib.pyplot as plt\n",
    "from wordcloud import WordCloud\n",
    "from nltk.corpus import stopwords\n",
    "from nltk.stem import WordNetLemmatizer\n",
    "from sklearn.feature_extraction.text import TfidfVectorizer\n",
    "from sklearn.model_selection import train_test_split\n",
    "from sklearn.naive_bayes import MultinomialNB\n",
    "from sklearn.metrics import accuracy_score, classification_report\n",
    "import nltk\n",
    "\n",
    "# nltk resources which we need to download before-hand\n",
    "# nltk.download(\"stopwords\")\n",
    "# nltk.download(\"wordnet\")\n",
    "\n",
    "\n",
    "df = pd.read_csv(\"stress.csv\")\n",
    "\n",
    "\n",
    "if \"text\" not in df.columns or \"label\" not in df.columns:\n",
    "    raise KeyError(\"Columns 'text' and 'label' not found in dataset!\")\n",
    "\n",
    "\n",
    "lemmatizer = WordNetLemmatizer()\n",
    "stop_words = set(stopwords.words(\"english\"))\n",
    "\n",
    "\n",
    "def preprocess_text(text):\n",
    "    if not isinstance(text, str):  # Ensure it's a string\n",
    "        return \"\"\n",
    "    \n",
    "    text = text.lower()  # Convert to lowercase\n",
    "    text = re.sub(f\"[{re.escape(string.punctuation)}]\", \"\", text)  # Remove punctuation\n",
    "    words = text.split()  # Split by spaces (instead of word_tokenize)\n",
    "    \n",
    "    # Remove stopwords & apply lemmatization\n",
    "    words = [lemmatizer.lemmatize(word) for word in words if word not in stop_words]\n",
    "    \n",
    "    return \" \".join(words)\n",
    "\n",
    "\n",
    "df[\"Processed_Text\"] = df[\"text\"].astype(str).apply(preprocess_text)\n",
    "\n",
    "# Convert text into numerical form using TF-IDF\n",
    "vectorizer = TfidfVectorizer()\n",
    "X = vectorizer.fit_transform(df[\"Processed_Text\"])  # Features\n",
    "y = df[\"label\"]  # Target (Stress / No Stress)\n",
    "\n",
    "# Split data into train & test sets (80% train, 20% test)\n",
    "X_train, X_test, y_train, y_test = train_test_split(X, y, test_size=0.2, random_state=42)\n",
    "\n",
    "# Train Naïve Bayes model\n",
    "model = MultinomialNB()\n",
    "model.fit(X_train, y_train)\n",
    "\n",
    "# Predict on test data\n",
    "y_pred = model.predict(X_test)\n",
    "\n",
    "# Model evaluation\n",
    "print(\"Accuracy:\", accuracy_score(y_test, y_pred))\n",
    "print(classification_report(y_test, y_pred))\n",
    "\n",
    "# Take user input and predict\n",
    "user_input = input(\"Enter a sentence to predict stress level: \")\n",
    "processed_input = preprocess_text(user_input)  # Preprocess user input\n",
    "input_vector = vectorizer.transform([processed_input])  # Convert to numerical form\n",
    "prediction = model.predict(input_vector)  # Predict using trained model\n",
    "\n",
    "# Print result\n",
    "print(\"Prediction:\", \"Stress\" if prediction[0] == 1 else \"No Stress\")\n"
   ]
  }
 ],
 "metadata": {
  "kernelspec": {
   "display_name": "Python 3 (ipykernel)",
   "language": "python",
   "name": "python3"
  },
  "language_info": {
   "codemirror_mode": {
    "name": "ipython",
    "version": 3
   },
   "file_extension": ".py",
   "mimetype": "text/x-python",
   "name": "python",
   "nbconvert_exporter": "python",
   "pygments_lexer": "ipython3",
   "version": "3.12.7"
  }
 },
 "nbformat": 4,
 "nbformat_minor": 5
}
